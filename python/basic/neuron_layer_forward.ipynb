{
 "cells": [
  {
   "cell_type": "code",
   "execution_count": 1,
   "metadata": {},
   "outputs": [],
   "source": [
    "import numpy as np"
   ]
  },
  {
   "cell_type": "code",
   "execution_count": 23,
   "metadata": {},
   "outputs": [],
   "source": [
    "def neuron(inputs, random_state=42):\n",
    "    np.random.seed(random_state)\n",
    "    weights = np.random.rand(len(inputs))\n",
    "    bias = np.random.rand(1)\n",
    "    \n",
    "    forward = np.dot(inputs, weights) + bias\n",
    "    \n",
    "    # forward2 = 0\n",
    "    # for i in range(len(inputs)):\n",
    "    #     forward2 += weights[i] * inputs[i]\n",
    "    \n",
    "    # forward2+=bias\n",
    "    \n",
    "    return forward"
   ]
  },
  {
   "cell_type": "code",
   "execution_count": 24,
   "metadata": {},
   "outputs": [
    {
     "data": {
      "text/plain": [
       "array([7.02260313])"
      ]
     },
     "execution_count": 24,
     "metadata": {},
     "output_type": "execute_result"
    }
   ],
   "source": [
    "inputs = [1, 2, 3, 4]\n",
    "neuron(inputs)"
   ]
  },
  {
   "cell_type": "code",
   "execution_count": 25,
   "metadata": {},
   "outputs": [
    {
     "data": {
      "text/plain": [
       "array([6.3906699 , 3.2141003 , 4.29849217])"
      ]
     },
     "execution_count": 25,
     "metadata": {},
     "output_type": "execute_result"
    }
   ],
   "source": [
    "def layer(inputs, num_neurons):\n",
    "    outs = []\n",
    "    for i in range(num_neurons):\n",
    "        outs.append(neuron(inputs, random_state=i).item())\n",
    "    \n",
    "    return np.array(outs)\n",
    "\n",
    "layer(inputs, 3)"
   ]
  },
  {
   "cell_type": "markdown",
   "metadata": {},
   "source": [
    "## Optimizing Layer"
   ]
  },
  {
   "cell_type": "code",
   "execution_count": 28,
   "metadata": {},
   "outputs": [],
   "source": [
    "def layer(inputs, num_neurons, random_state=42):\n",
    "    np.random.seed(random_state)\n",
    "    weights = np.random.random((num_neurons, len(inputs)))\n",
    "    bias = np.random.random(num_neurons)\n",
    "    \n",
    "    outs = np.dot(weights, inputs) + bias\n",
    "    \n",
    "    return outs"
   ]
  },
  {
   "cell_type": "code",
   "execution_count": 29,
   "metadata": {},
   "outputs": [
    {
     "data": {
      "text/plain": [
       "array([7.69902713, 4.31930221, 6.14047803])"
      ]
     },
     "execution_count": 29,
     "metadata": {},
     "output_type": "execute_result"
    }
   ],
   "source": [
    "layer(inputs=inputs, num_neurons=3)"
   ]
  },
  {
   "cell_type": "markdown",
   "metadata": {},
   "source": [
    "## For Batch of data"
   ]
  },
  {
   "cell_type": "code",
   "execution_count": 41,
   "metadata": {},
   "outputs": [],
   "source": [
    "inputs = [[1, 2, 3, 4, 5],\n",
    "          [3, 4, 5, 6, 7],\n",
    "          [5, 6, 7, 8, 9]]\n",
    "\n",
    "inputs = np.array(inputs)"
   ]
  },
  {
   "cell_type": "code",
   "execution_count": 60,
   "metadata": {},
   "outputs": [
    {
     "data": {
      "text/plain": [
       "array([[ 9.72421484,  3.22680102,  6.56642243,  6.85015598],\n",
       "       [15.56899447,  5.91400292,  9.9713876 , 11.06927495],\n",
       "       [21.41377411,  8.60120482, 13.37635278, 15.28839391]])"
      ]
     },
     "execution_count": 60,
     "metadata": {},
     "output_type": "execute_result"
    }
   ],
   "source": [
    "w = np.random.random((4, len(inputs[0])))\n",
    "b = np.random.random(4)\n",
    "x = np.dot(inputs, w.T)\n",
    "x"
   ]
  },
  {
   "cell_type": "code",
   "execution_count": 61,
   "metadata": {},
   "outputs": [
    {
     "data": {
      "text/plain": [
       "array([0.3978556 , 0.96947043, 0.86550713, 0.81707207])"
      ]
     },
     "execution_count": 61,
     "metadata": {},
     "output_type": "execute_result"
    }
   ],
   "source": [
    "b"
   ]
  },
  {
   "cell_type": "code",
   "execution_count": 62,
   "metadata": {},
   "outputs": [
    {
     "data": {
      "text/plain": [
       "array([[10.12207044,  4.19627145,  7.43192956,  7.66722806],\n",
       "       [15.96685007,  6.88347336, 10.83689473, 11.88634702],\n",
       "       [21.81162971,  9.57067526, 14.2418599 , 16.10546598]])"
      ]
     },
     "execution_count": 62,
     "metadata": {},
     "output_type": "execute_result"
    }
   ],
   "source": [
    "x+b"
   ]
  },
  {
   "cell_type": "code",
   "execution_count": 63,
   "metadata": {},
   "outputs": [
    {
     "data": {
      "text/plain": [
       "array([[ 8.45507504,  9.12012689,  6.31388551,  6.23431709,  5.95322435,\n",
       "         5.45117541, 10.2626271 ],\n",
       "       [14.07892603, 13.89901062, 10.74808764,  9.70547178,  9.68507081,\n",
       "         9.72707374, 15.77790338],\n",
       "       [19.70277701, 18.67789436, 15.18228977, 13.17662647, 13.41691728,\n",
       "        14.00297207, 21.29317966]])"
      ]
     },
     "execution_count": 63,
     "metadata": {},
     "output_type": "execute_result"
    }
   ],
   "source": [
    "def batch_layer(inputs, num_neurons, random_state=42):\n",
    "    np.random.seed(random_state)\n",
    "    weights = np.random.random((num_neurons, len(inputs[0])))\n",
    "    bias = np.random.random(num_neurons)\n",
    "    \n",
    "    outs = np.dot(inputs, weights.T) + bias\n",
    "    \n",
    "    return outs\n",
    "\n",
    "batch_layer(inputs, num_neurons=7)"
   ]
  }
 ],
 "metadata": {
  "kernelspec": {
   "display_name": "torch",
   "language": "python",
   "name": "python3"
  },
  "language_info": {
   "codemirror_mode": {
    "name": "ipython",
    "version": 3
   },
   "file_extension": ".py",
   "mimetype": "text/x-python",
   "name": "python",
   "nbconvert_exporter": "python",
   "pygments_lexer": "ipython3",
   "version": "3.10.13"
  }
 },
 "nbformat": 4,
 "nbformat_minor": 2
}
