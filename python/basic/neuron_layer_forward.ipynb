{
 "cells": [
  {
   "cell_type": "code",
   "execution_count": 1,
   "metadata": {},
   "outputs": [],
   "source": [
    "import numpy as np"
   ]
  },
  {
   "cell_type": "code",
   "execution_count": 5,
   "metadata": {},
   "outputs": [],
   "source": [
    "def neuron(inputs, random_state=42):\n",
    "    np.random.seed(random_state)\n",
    "    weights = np.random.rand(len(inputs))\n",
    "    bias = np.random.rand(1)\n",
    "    \n",
    "    forward = np.dot(inputs, weights) + bias\n",
    "    \n",
    "    # forward2 = 0\n",
    "    # for i in range(len(inputs)):\n",
    "    #     forward2 += weights[i] * inputs[i]\n",
    "    \n",
    "    # forward2+=bias\n",
    "    \n",
    "    return forward"
   ]
  },
  {
   "cell_type": "code",
   "execution_count": 6,
   "metadata": {},
   "outputs": [
    {
     "data": {
      "text/plain": [
       "array([7.02260313])"
      ]
     },
     "execution_count": 6,
     "metadata": {},
     "output_type": "execute_result"
    }
   ],
   "source": [
    "inputs = [1, 2, 3, 4]\n",
    "neuron(inputs)"
   ]
  },
  {
   "cell_type": "code",
   "execution_count": 10,
   "metadata": {},
   "outputs": [
    {
     "data": {
      "text/plain": [
       "array([6.3906699 , 3.2141003 , 4.29849217])"
      ]
     },
     "execution_count": 10,
     "metadata": {},
     "output_type": "execute_result"
    }
   ],
   "source": [
    "def layer(inputs, num_neurons):\n",
    "    outs = []\n",
    "    for i in range(num_neurons):\n",
    "        outs.append(neuron(inputs, random_state=i).item())\n",
    "    \n",
    "    return np.array(outs)\n",
    "\n",
    "layer(inputs, 3)"
   ]
  },
  {
   "cell_type": "code",
   "execution_count": null,
   "metadata": {},
   "outputs": [],
   "source": []
  }
 ],
 "metadata": {
  "kernelspec": {
   "display_name": "torch",
   "language": "python",
   "name": "python3"
  },
  "language_info": {
   "codemirror_mode": {
    "name": "ipython",
    "version": 3
   },
   "file_extension": ".py",
   "mimetype": "text/x-python",
   "name": "python",
   "nbconvert_exporter": "python",
   "pygments_lexer": "ipython3",
   "version": "3.10.13"
  }
 },
 "nbformat": 4,
 "nbformat_minor": 2
}
