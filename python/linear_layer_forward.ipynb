{
 "cells": [
  {
   "cell_type": "code",
   "execution_count": 1,
   "metadata": {},
   "outputs": [],
   "source": [
    "import numpy as np"
   ]
  },
  {
   "cell_type": "code",
   "execution_count": 4,
   "metadata": {},
   "outputs": [],
   "source": [
    "class Linear:\n",
    "    def __init__(self, n_inputs, n_neurons, random_state=42):\n",
    "        np.random.seed(random_state)\n",
    "        self.weights = np.random.randn(n_neurons, n_inputs)\n",
    "        self.bias = np.random.randn(n_neurons)\n",
    "        \n",
    "    def __call__(self, inputs):\n",
    "        return self.forward(inputs)\n",
    "        \n",
    "    def forward(self, inputs):\n",
    "        out = np.dot(inputs, self.weights.T) + self.bias\n",
    "        \n",
    "        return out"
   ]
  },
  {
   "cell_type": "code",
   "execution_count": 5,
   "metadata": {},
   "outputs": [
    {
     "data": {
      "text/plain": [
       "array([[  1.60096364,  -0.66051888,   2.01990645,  -2.68948868,\n",
       "        -10.17165542],\n",
       "       [  4.61937881,   2.50369969,   7.65142592,  -3.84925089,\n",
       "        -20.36036283],\n",
       "       [  7.63779398,   5.66791826,  13.2829454 ,  -5.0090131 ,\n",
       "        -30.54907025]])"
      ]
     },
     "execution_count": 5,
     "metadata": {},
     "output_type": "execute_result"
    }
   ],
   "source": [
    "inputs = [[1, 2, 3],\n",
    "          [4, 5, 6],\n",
    "          [7, 8, 9]]\n",
    "\n",
    "linear = Linear(3, 5)\n",
    "linear(inputs)"
   ]
  },
  {
   "cell_type": "code",
   "execution_count": 7,
   "metadata": {},
   "outputs": [
    {
     "data": {
      "text/plain": [
       "array([  1.60096364,  -0.66051888,   2.01990645,  -2.68948868,\n",
       "       -10.17165542])"
      ]
     },
     "execution_count": 7,
     "metadata": {},
     "output_type": "execute_result"
    }
   ],
   "source": [
    "linear_inputs = [1, 2, 3]\n",
    "linear(linear_inputs)"
   ]
  }
 ],
 "metadata": {
  "kernelspec": {
   "display_name": "torch",
   "language": "python",
   "name": "python3"
  },
  "language_info": {
   "codemirror_mode": {
    "name": "ipython",
    "version": 3
   },
   "file_extension": ".py",
   "mimetype": "text/x-python",
   "name": "python",
   "nbconvert_exporter": "python",
   "pygments_lexer": "ipython3",
   "version": "3.10.13"
  }
 },
 "nbformat": 4,
 "nbformat_minor": 2
}
