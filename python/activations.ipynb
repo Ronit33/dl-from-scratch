{
 "cells": [
  {
   "cell_type": "code",
   "execution_count": 2,
   "metadata": {},
   "outputs": [],
   "source": [
    "import numpy as np"
   ]
  },
  {
   "cell_type": "markdown",
   "metadata": {},
   "source": [
    "### ReLU"
   ]
  },
  {
   "cell_type": "code",
   "execution_count": 3,
   "metadata": {},
   "outputs": [],
   "source": [
    "def relu(x):\n",
    "    # return np.where(x>0, x, 0)\n",
    "    \n",
    "    return np.maximum(x, 0)"
   ]
  },
  {
   "cell_type": "code",
   "execution_count": 4,
   "metadata": {},
   "outputs": [],
   "source": [
    "x = np.array([1, -2])\n",
    "inputs = [[1, 2, 3],\n",
    "          [4, 5, 6],\n",
    "          [7, 8, 9]]"
   ]
  },
  {
   "cell_type": "code",
   "execution_count": 5,
   "metadata": {},
   "outputs": [],
   "source": [
    "from linear_forward import Linear\n",
    "fc1 = Linear(2, 5)\n",
    "fc2 = Linear(3, 2, random_state=20)\n",
    "out1 = fc1(x)\n",
    "out2 = fc2(inputs)"
   ]
  },
  {
   "cell_type": "code",
   "execution_count": 6,
   "metadata": {},
   "outputs": [
    {
     "name": "stdout",
     "output_type": "stream",
     "text": [
      "[ 0.30982506 -2.86410093  0.47608281 -1.86893689 -3.27951231]\n",
      "[[  3.28770205  -3.81231925]\n",
      " [  7.59958601 -12.41751386]\n",
      " [ 11.91146996 -21.02270848]]\n"
     ]
    }
   ],
   "source": [
    "print(out1)\n",
    "print(out2)"
   ]
  },
  {
   "cell_type": "code",
   "execution_count": 7,
   "metadata": {},
   "outputs": [
    {
     "name": "stdout",
     "output_type": "stream",
     "text": [
      "[0.30982506 0.         0.47608281 0.         0.        ]\n",
      "[[ 3.28770205  0.        ]\n",
      " [ 7.59958601  0.        ]\n",
      " [11.91146996  0.        ]]\n"
     ]
    }
   ],
   "source": [
    "print(relu(out1))\n",
    "print(relu(out2))"
   ]
  },
  {
   "cell_type": "markdown",
   "metadata": {},
   "source": [
    "### Sigmoid"
   ]
  },
  {
   "cell_type": "code",
   "execution_count": 8,
   "metadata": {},
   "outputs": [],
   "source": [
    "def sigmoid(x):\n",
    "    \n",
    "    return 1/(1 + np.exp(-x))"
   ]
  },
  {
   "cell_type": "code",
   "execution_count": 9,
   "metadata": {},
   "outputs": [
    {
     "name": "stdout",
     "output_type": "stream",
     "text": [
      "[0.57684256 0.05395698 0.61682246 0.13366478 0.03628076]\n",
      "[[9.64004501e-01 2.16191555e-02]\n",
      " [9.99499592e-01 4.04706791e-06]\n",
      " [9.99993287e-01 7.41231239e-10]]\n"
     ]
    }
   ],
   "source": [
    "print(sigmoid(out1))\n",
    "print(sigmoid(out2))"
   ]
  },
  {
   "cell_type": "markdown",
   "metadata": {},
   "source": [
    "### Softmax"
   ]
  },
  {
   "cell_type": "code",
   "execution_count": 12,
   "metadata": {},
   "outputs": [
    {
     "name": "stdout",
     "output_type": "stream",
     "text": [
      "[0.42309871 0.01770203 0.49962772 0.04788698 0.01168456]\n",
      "[[9.99175593e-01 8.24407134e-04]\n",
      " [9.99999998e-01 2.02620779e-09]\n",
      " [1.00000000e+00 4.97585872e-15]]\n"
     ]
    }
   ],
   "source": [
    "def softmax(x):\n",
    "    if len(x.shape)==1:\n",
    "        num = np.exp(x)\n",
    "        den = np.sum(np.exp(x))\n",
    "        \n",
    "        return num/den\n",
    "    \n",
    "    exp = np.exp(x - np.max(x, axis=1, keepdims=True)) # adding numerical stability\n",
    "    den = np.sum(exp, axis=1, keepdims=True)\n",
    "    \n",
    "    return exp/den\n",
    "\n",
    "print(softmax(out1))\n",
    "print(softmax(out2))"
   ]
  },
  {
   "cell_type": "code",
   "execution_count": null,
   "metadata": {},
   "outputs": [],
   "source": []
  }
 ],
 "metadata": {
  "kernelspec": {
   "display_name": "torch",
   "language": "python",
   "name": "python3"
  },
  "language_info": {
   "codemirror_mode": {
    "name": "ipython",
    "version": 3
   },
   "file_extension": ".py",
   "mimetype": "text/x-python",
   "name": "python",
   "nbconvert_exporter": "python",
   "pygments_lexer": "ipython3",
   "version": "3.10.13"
  }
 },
 "nbformat": 4,
 "nbformat_minor": 2
}
