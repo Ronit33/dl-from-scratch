{
 "cells": [
  {
   "cell_type": "code",
   "execution_count": 1,
   "metadata": {},
   "outputs": [],
   "source": [
    "import numpy as np"
   ]
  },
  {
   "cell_type": "markdown",
   "metadata": {},
   "source": [
    "# Derivative of mse\n",
    "### loss = (target - relu(z)) ** 2\n",
    "* d_loss_w = dloss/d_relu(z) * d_relu(z)/dw\n",
    "* d_relu(z)/dw = d_relu(z)/z * dz/dw\n",
    "* dz/dw = x\n",
    "\n",
    "1. loss = (target - relu(z))**2\n",
    "2. d_loss_relu = 2 * (target - relu(z)) * -1 = -2 * (target - relu(z))\n",
    "3. d_relu_z = 1 if x>0 else 0\n",
    "4. d_z_w = x\n",
    "5. d_loss_w = d_loss_relu * d_relu_z * d_z_x"
   ]
  },
  {
   "cell_type": "code",
   "execution_count": 39,
   "metadata": {},
   "outputs": [],
   "source": [
    "class Neuron:\n",
    "    def __init__(self, input_size, lr=0.01, random_state=42):\n",
    "        np.random.seed(random_state)\n",
    "        self.weights = np.random.randn(input_size)\n",
    "        self.bias = np.random.randn(1)\n",
    "        self.lr = lr\n",
    "        \n",
    "        self.inputs = None\n",
    "        self.target = None\n",
    "        self.z = None\n",
    "        self.output = None\n",
    "        self.loss = None\n",
    "        \n",
    "    def __call__(self, inputs):\n",
    "        self.inputs = inputs\n",
    "        return self.forward(inputs)\n",
    "    \n",
    "    def get_params(self):\n",
    "        return self.weights, self.bias\n",
    "    \n",
    "    def relu(self, x):\n",
    "        return  np.maximum(0, x)\n",
    "    \n",
    "    def relu_derivative(self, x):\n",
    "        return np.where(x>0, 1.0, 0.0)\n",
    "    \n",
    "    def forward(self, inputs):\n",
    "        out = np.dot(inputs, self.weights.T) + self.bias\n",
    "        self.z = out\n",
    "        out = self.relu(out)\n",
    "        self.output = out\n",
    "        return out\n",
    "    \n",
    "    def mse(self, target_labels, predicted_output):\n",
    "        self.target = target_labels\n",
    "        loss =  (target_labels - predicted_output) ** 2\n",
    "        self.loss = loss\n",
    "        return loss\n",
    "    \n",
    "    def backward(self):\n",
    "        d_loss_relu = -2 * (self.target - self.output)\n",
    "        d_relu_z = self.relu_derivative(self.z)\n",
    "        d_z_w = self.inputs\n",
    "        d_z_b = 1\n",
    "        \n",
    "        d_loss_w = d_loss_relu * d_relu_z * d_z_w\n",
    "        d_loss_b = d_loss_relu * d_relu_z * d_z_b\n",
    "        \n",
    "        self.weights -= self.lr * d_loss_w\n",
    "        self.bias -= self.lr * d_loss_b"
   ]
  },
  {
   "cell_type": "code",
   "execution_count": 43,
   "metadata": {},
   "outputs": [
    {
     "data": {
      "text/plain": [
       "(array([2.12444863, 0.25264613, 1.45417876]), array([0.56923979]))"
      ]
     },
     "execution_count": 43,
     "metadata": {},
     "output_type": "execute_result"
    }
   ],
   "source": [
    "inputs = np.array([1.0, -2.0, 3.0])\n",
    "target_output = 0.0\n",
    "learning_rate = 0.01\n",
    "\n",
    "neuron = Neuron(3, learning_rate, random_state=1024)\n",
    "neuron.get_params()"
   ]
  },
  {
   "cell_type": "code",
   "execution_count": 44,
   "metadata": {},
   "outputs": [
    {
     "name": "stdout",
     "output_type": "stream",
     "text": [
      "EPOCH: 0 || LOSS: [42.91471598] || OUTPUT: [6.55093245]\n",
      "EPOCH: 10 || LOSS: [0.03424262] || OUTPUT: [0.18504763]\n",
      "EPOCH: 20 || LOSS: [2.73229661e-05] || OUTPUT: [0.00522714]\n",
      "EPOCH: 30 || LOSS: [2.18016139e-08] || OUTPUT: [0.00014765]\n",
      "EPOCH: 40 || LOSS: [1.73960018e-11] || OUTPUT: [4.17085145e-06]\n",
      "EPOCH: 50 || LOSS: [1.3880664e-14] || OUTPUT: [1.1781623e-07]\n",
      "EPOCH: 60 || LOSS: [1.10756986e-17] || OUTPUT: [3.32801722e-09]\n",
      "EPOCH: 70 || LOSS: [8.83758156e-21] || OUTPUT: [9.40084122e-11]\n",
      "EPOCH: 80 || LOSS: [7.05293764e-24] || OUTPUT: [2.65573674e-12]\n",
      "EPOCH: 90 || LOSS: [5.66186503e-27] || OUTPUT: [7.52453655e-14]\n"
     ]
    }
   ],
   "source": [
    "for i in range(100):\n",
    "    y_pred = neuron(inputs)\n",
    "    loss = neuron.mse(target_output, y_pred)\n",
    "    neuron.backward()\n",
    "    \n",
    "    if i%10==0:\n",
    "        print(f\"EPOCH: {i} || LOSS: {loss} || OUTPUT: {y_pred}\")\n",
    "    "
   ]
  },
  {
   "cell_type": "code",
   "execution_count": 42,
   "metadata": {},
   "outputs": [
    {
     "data": {
      "text/plain": [
       "(array([ 0.2140916 ,  0.4269808 , -0.20017911]), array([1.24040731]))"
      ]
     },
     "execution_count": 42,
     "metadata": {},
     "output_type": "execute_result"
    }
   ],
   "source": [
    "neuron.get_params()"
   ]
  },
  {
   "cell_type": "code",
   "execution_count": null,
   "metadata": {},
   "outputs": [],
   "source": []
  }
 ],
 "metadata": {
  "kernelspec": {
   "display_name": "torch",
   "language": "python",
   "name": "python3"
  },
  "language_info": {
   "codemirror_mode": {
    "name": "ipython",
    "version": 3
   },
   "file_extension": ".py",
   "mimetype": "text/x-python",
   "name": "python",
   "nbconvert_exporter": "python",
   "pygments_lexer": "ipython3",
   "version": "3.10.13"
  }
 },
 "nbformat": 4,
 "nbformat_minor": 2
}
