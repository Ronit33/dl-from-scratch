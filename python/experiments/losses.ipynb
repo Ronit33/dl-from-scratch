{
 "cells": [
  {
   "cell_type": "code",
   "execution_count": 9,
   "metadata": {},
   "outputs": [],
   "source": [
    "import numpy as np"
   ]
  },
  {
   "cell_type": "markdown",
   "metadata": {},
   "source": [
    "# Categorical Cross Entropy Loss\n",
    "\n",
    " sum(-true_label * log(predicted_proabability))"
   ]
  },
  {
   "cell_type": "code",
   "execution_count": 10,
   "metadata": {},
   "outputs": [
    {
     "data": {
      "text/plain": [
       "1.3862943611198906"
      ]
     },
     "execution_count": 10,
     "metadata": {},
     "output_type": "execute_result"
    }
   ],
   "source": [
    "pred = np.array([0.5, 0.25, 0.25])\n",
    "true = np.array([[0, 0, 1]])\n",
    "\n",
    "def cross_entropy_loss(true, preds):\n",
    "    clipped_preds = np.clip(preds, 1e-7, 1-1e-7)\n",
    "    log_preds = np.log(clipped_preds)  # To handle zeros and prevent log(0)\n",
    "    \n",
    "    if len(true.shape) == 1:\n",
    "        # Integer labels case\n",
    "        return -np.mean(log_preds[np.arange(len(preds)), true])\n",
    "    \n",
    "    # One-hot encoded labels case\n",
    "    return -np.mean(np.sum(true * log_preds, axis=1))\n",
    "\n",
    "cross_entropy_loss(true, pred)"
   ]
  },
  {
   "cell_type": "code",
   "execution_count": 11,
   "metadata": {},
   "outputs": [
    {
     "data": {
      "text/plain": [
       "0.4243218919376292"
      ]
     },
     "execution_count": 11,
     "metadata": {},
     "output_type": "execute_result"
    }
   ],
   "source": [
    "true_labels = np.array([0, 1, 2])  # True labels (e.g., 3 classes)\n",
    "predicted_probs = np.array([[0.8, 0.1, 0.1], [0.2, 0.5, 0.3], [0.1, 0.2, 0.7]])  # Predicted probabilities\n",
    "\n",
    "cross_entropy_loss(true_labels, predicted_probs)"
   ]
  },
  {
   "cell_type": "code",
   "execution_count": 12,
   "metadata": {},
   "outputs": [
    {
     "data": {
      "text/plain": [
       "0.3669845875401002"
      ]
     },
     "execution_count": 12,
     "metadata": {},
     "output_type": "execute_result"
    }
   ],
   "source": [
    "pred = np.array([[0.4, 0.6, 0.0],\n",
    "                 [0.2, 0.2, 0.8]])\n",
    "\n",
    "true = np.array([[0, 1, 0],\n",
    "                 [0, 0, 1]])\n",
    "\n",
    "cross_entropy_loss(true, pred)"
   ]
  }
 ],
 "metadata": {
  "kernelspec": {
   "display_name": "torch",
   "language": "python",
   "name": "python3"
  },
  "language_info": {
   "codemirror_mode": {
    "name": "ipython",
    "version": 3
   },
   "file_extension": ".py",
   "mimetype": "text/x-python",
   "name": "python",
   "nbconvert_exporter": "python",
   "pygments_lexer": "ipython3",
   "version": "3.10.13"
  }
 },
 "nbformat": 4,
 "nbformat_minor": 2
}
